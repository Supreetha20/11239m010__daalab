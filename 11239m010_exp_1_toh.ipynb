{
  "nbformat": 4,
  "nbformat_minor": 0,
  "metadata": {
    "colab": {
      "provenance": [],
      "authorship_tag": "ABX9TyNXUwvBg/s3sKv8GPRv6oQP",
      "include_colab_link": true
    },
    "kernelspec": {
      "name": "python3",
      "display_name": "Python 3"
    },
    "language_info": {
      "name": "python"
    }
  },
  "cells": [
    {
      "cell_type": "markdown",
      "metadata": {
        "id": "view-in-github",
        "colab_type": "text"
      },
      "source": [
        "<a href=\"https://colab.research.google.com/github/Supreetha20/11239m010__daalab/blob/main/11239m010_exp_1_toh.ipynb\" target=\"_parent\"><img src=\"https://colab.research.google.com/assets/colab-badge.svg\" alt=\"Open In Colab\"/></a>"
      ]
    },
    {
      "cell_type": "code",
      "execution_count": 2,
      "metadata": {
        "colab": {
          "base_uri": "https://localhost:8080/"
        },
        "id": "a-oDHspnjVOE",
        "outputId": "d1b3b04e-f55c-4ff8-aa96-3c979a224307"
      },
      "outputs": [
        {
          "output_type": "stream",
          "name": "stdout",
          "text": [
            "Enter the number of disks: 3\n",
            "Move disk 1 from A to C\n",
            "Move disk 2 from A to B\n",
            "Move disk 1 from C to B\n",
            "Move disk 3 from A to C\n",
            "Move disk 1 from B to A\n",
            "Move disk 2 from B to C\n",
            "Move disk 1 from A to C\n"
          ]
        }
      ],
      "source": [
        "def tower(n, source, aux, target):\n",
        "    if n == 1:\n",
        "        print(f\"Move disk 1 from {source} to {target}\")\n",
        "        return\n",
        "    tower(n - 1, source, target, aux)\n",
        "    print(f\"Move disk {n} from {source} to {target}\")\n",
        "    tower(n - 1, aux, source, target)\n",
        "\n",
        "if __name__ == \"__main__\":\n",
        "    try:\n",
        "        n = int(input(\"Enter the number of disks: \"))\n",
        "        tower(n, 'A', 'B', 'C')\n",
        "    except ValueError:\n",
        "        print(\"Please enter a valid integer.\")\n"
      ]
    }
  ]
}
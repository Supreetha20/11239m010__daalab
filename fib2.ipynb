{
  "nbformat": 4,
  "nbformat_minor": 0,
  "metadata": {
    "colab": {
      "provenance": [],
      "authorship_tag": "ABX9TyP4gfaOtHPtrP1UfeZDPmRT",
      "include_colab_link": true
    },
    "kernelspec": {
      "name": "python3",
      "display_name": "Python 3"
    },
    "language_info": {
      "name": "python"
    }
  },
  "cells": [
    {
      "cell_type": "markdown",
      "metadata": {
        "id": "view-in-github",
        "colab_type": "text"
      },
      "source": [
        "<a href=\"https://colab.research.google.com/github/Supreetha20/11239m010__daalab/blob/main/fib2.ipynb\" target=\"_parent\"><img src=\"https://colab.research.google.com/assets/colab-badge.svg\" alt=\"Open In Colab\"/></a>"
      ]
    },
    {
      "cell_type": "code",
      "execution_count": 1,
      "metadata": {
        "colab": {
          "base_uri": "https://localhost:8080/"
        },
        "id": "zwF_waP0rsjQ",
        "outputId": "0051e1d6-4c34-423e-ddeb-6f011c2ddd39"
      },
      "outputs": [
        {
          "output_type": "stream",
          "name": "stdout",
          "text": [
            "enter a number:7\n",
            "0 1 1 2 3 5 8 "
          ]
        }
      ],
      "source": [
        "def fib(n):\n",
        "    a,b=0,1\n",
        "    count=0\n",
        "    while count<n:\n",
        "        print(a, end=\" \")\n",
        "        temp=a+b\n",
        "        a=b\n",
        "        b=temp\n",
        "        count+=1\n",
        "n=int(input(\"enter a number:\"))\n",
        "fib(n)"
      ]
    }
  ]
}